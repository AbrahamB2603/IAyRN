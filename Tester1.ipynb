{
  "nbformat": 4,
  "nbformat_minor": 0,
  "metadata": {
    "colab": {
      "provenance": [],
      "authorship_tag": "ABX9TyO2sz9xLJqpaL1BvSHdxaue",
      "include_colab_link": true
    },
    "kernelspec": {
      "name": "python3",
      "display_name": "Python 3"
    },
    "language_info": {
      "name": "python"
    }
  },
  "cells": [
    {
      "cell_type": "markdown",
      "metadata": {
        "id": "view-in-github",
        "colab_type": "text"
      },
      "source": [
        "<a href=\"https://colab.research.google.com/github/AbrahamB2603/IAyRN/blob/Main/Tester1.ipynb\" target=\"_parent\"><img src=\"https://colab.research.google.com/assets/colab-badge.svg\" alt=\"Open In Colab\"/></a>"
      ]
    },
    {
      "cell_type": "markdown",
      "source": [
        "Actividad 6: Aprendizaje supervisado, árbol de decisión"
      ],
      "metadata": {
        "id": "SzqkNBriRiWK"
      }
    },
    {
      "cell_type": "code",
      "source": [
        "Ramiro Emiliano Martinez De La Cruz - 2014197 - Martes N4\n",
        "María Fernanda Garza Barbosa - 1945003 - Martes N4\n",
        "Karla Judith Corona Castro - 1923390 - Martes N4\n",
        "Abraham Giovanni Aguirre Bravo 2014222 - N4"
      ],
      "metadata": {
        "id": "nn_DRfelRBR9"
      },
      "execution_count": null,
      "outputs": []
    }
  ]
}