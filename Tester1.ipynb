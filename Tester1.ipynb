{
  "nbformat": 4,
  "nbformat_minor": 0,
  "metadata": {
    "colab": {
      "provenance": [],
      "authorship_tag": "ABX9TyNGrdlpJQH/9Dwbqz1EjUtY",
      "include_colab_link": true
    },
    "kernelspec": {
      "name": "python3",
      "display_name": "Python 3"
    },
    "language_info": {
      "name": "python"
    }
  },
  "cells": [
    {
      "cell_type": "markdown",
      "metadata": {
        "id": "view-in-github",
        "colab_type": "text"
      },
      "source": [
        "<a href=\"https://colab.research.google.com/github/AbrahamB2603/IAyRN/blob/Main/Tester1.ipynb\" target=\"_parent\"><img src=\"https://colab.research.google.com/assets/colab-badge.svg\" alt=\"Open In Colab\"/></a>"
      ]
    },
    {
      "cell_type": "markdown",
      "source": [
        "# Proyecto de la clase Inteligencia Artificial y Redes Neuronales.\n",
        "# Ramiro Emiliano Martinez De La Cruz - 2014197 - Martes M4\n",
        "# María Fernanda Garza Barbosa - 1945003 - Martes N4\n",
        "# Karla Judith Corona Castro - 1923390 - Martes N4\n",
        "# Abraham Giovanni Aguirre Bravo - 2014222 - Martes N4\n"
      ],
      "metadata": {
        "id": "aNA5ZQfykKxn"
      }
    },
    {
      "cell_type": "markdown",
      "source": [
        "# Introducción"
      ],
      "metadata": {
        "id": "0tCpaSvqqbd3"
      }
    },
    {
      "cell_type": "markdown",
      "source": [
        "Este proyecto se hizo con la finalidad de"
      ],
      "metadata": {
        "id": "CtUN7Zjnuxtl"
      }
    },
    {
      "cell_type": "markdown",
      "source": [
        "#Librerias"
      ],
      "metadata": {
        "id": "8qn-I0gSs0qb"
      }
    },
    {
      "cell_type": "code",
      "source": [
        "#importar librerías\n",
        "import tensorflow as tf\n",
        "from tensorflow.keras import datasets, layers, models\n",
        "import matplotlib.pyplot as plt"
      ],
      "metadata": {
        "id": "qzwWac3zt1Re"
      },
      "execution_count": 1,
      "outputs": []
    },
    {
      "cell_type": "markdown",
      "source": [
        "#Preprocesamiento"
      ],
      "metadata": {
        "id": "kmZodQLzvDAQ"
      }
    },
    {
      "cell_type": "code",
      "source": [
        "#Actividad 3\n",
        "# Cargar imagen de prueba\n",
        "file = '/content/numero.png'\n",
        "test_image = cv2.imread(file, cv2.IMREAD_GRAYSCALE )\n",
        "\n",
        "# Preview de la imagen de prueba\n",
        "plt.imshow(test_image, cmap='gray')"
      ],
      "metadata": {
        "id": "jpm6Fun-vLzw"
      },
      "execution_count": null,
      "outputs": []
    },
    {
      "cell_type": "code",
      "source": [
        "# Formato de imagen\n",
        "img_resized = cv2.resize(test_image, (28,28), )\n",
        "img_resized = cv2.bitwise_not(img_resized)\n",
        "\n",
        "# Preview de imagen reformateada\n",
        "Numeros='/content/Numeros'\n",
        "plt.imshow(img_resized, cmap='gray')\n",
        "plt.savefig(\"/content/Numeros/abc.png\")\n",
        "# Numeros.download(\"abc.png\")\n",
        "\n",
        "# Dentro del ciclo for, vamos a generar las ETIQUETAS para cada imagen (enteros del 0 - 9).\n",
        "img_resized.append()"
      ],
      "metadata": {
        "id": "JYrNxqddvUWA"
      },
      "execution_count": null,
      "outputs": []
    },
    {
      "cell_type": "code",
      "source": [
        "# Dividir el dataset en 80% para entrenamiento y 20% para validación, o 70% - 30%.\n",
        "# ¡Invesigar!\n",
        "\n",
        "train_images\n",
        "train_labels\n",
        "test_images\n",
        "test_labels"
      ],
      "metadata": {
        "id": "q9CcgBnLvclF"
      },
      "execution_count": null,
      "outputs": []
    },
    {
      "cell_type": "code",
      "source": [
        "len(train_labels)"
      ],
      "metadata": {
        "id": "yRPXV5CTv4Oe"
      },
      "execution_count": null,
      "outputs": []
    },
    {
      "cell_type": "code",
      "source": [
        "train_labels"
      ],
      "metadata": {
        "id": "WLkVPW7iv57h"
      },
      "execution_count": null,
      "outputs": []
    },
    {
      "cell_type": "code",
      "source": [
        "test_images.shape"
      ],
      "metadata": {
        "id": "ai3nsrI0v_VC"
      },
      "execution_count": null,
      "outputs": []
    },
    {
      "cell_type": "code",
      "source": [
        "len(test_labels)"
      ],
      "metadata": {
        "id": "saguJZEowBAP"
      },
      "execution_count": null,
      "outputs": []
    },
    {
      "cell_type": "code",
      "source": [
        "# Normalización de valores de pixeles.\n",
        "\n",
        "train_images = train_images / 255.0\n",
        "test_images = test_images / 255.0"
      ],
      "metadata": {
        "id": "J6W62xIXwJQE"
      },
      "execution_count": null,
      "outputs": []
    }
  ]
}