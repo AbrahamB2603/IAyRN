{
 "cells": [
  {
   "cell_type": "code",
   "execution_count": null,
   "id": "first-cell",
   "metadata": {},
   "outputs": [],
   "source": [
    "print('¡Hola desde Google Colab!')"
   ]
  }
 ],
 "metadata": {
  "colab": {
   "name": "mi_notebook.ipynb",
   "provenance": []
  },
  "kernelspec": {
   "display_name": "Python 3",
   "language": "python",
   "name": "python3"
  },
  "language_info": {
   "codemirror_mode": {
    "name": "ipython",
    "version": 3
   },
   "file_extension": ".py",
   "mimetype": "text/x-python",
   "name": "python",
   "nbconvert_exporter": "python",
   "pygments_lexer": "ipython3",
   "version": "3.7.12"
  }
 }
}
